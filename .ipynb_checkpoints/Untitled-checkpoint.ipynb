{
 "cells": [
  {
   "cell_type": "code",
   "execution_count": 3,
   "id": "2314ba86-7404-4411-8e8b-63f98206371d",
   "metadata": {},
   "outputs": [
    {
     "name": "stdout",
     "output_type": "stream",
     "text": [
      "Sample file saved at: C:/Users/Owner/OneDrive/Desktop/GitHub/nosql-challenge/Resources/establishments_sample.json\n"
     ]
    }
   ],
   "source": [
    "import json\n",
    "\n",
    "# Load the full JSON file with UTF-8 encoding\n",
    "file_path = \"C:/Users/Owner/OneDrive/Desktop/GitHub/nosql-challenge/Resources/establishments.json\"\n",
    "with open(file_path, 'r', encoding='utf-8') as file:\n",
    "    data = json.load(file)\n",
    "\n",
    "# Take the first 100 records as a sample\n",
    "sample_data = data[:100]\n",
    "\n",
    "# Save the sample to a new JSON file\n",
    "sample_file_path = \"C:/Users/Owner/OneDrive/Desktop/GitHub/nosql-challenge/Resources/establishments_sample.json\"\n",
    "with open(sample_file_path, 'w', encoding='utf-8') as sample_file:\n",
    "    json.dump(sample_data, sample_file, indent=4)\n",
    "\n",
    "# Print the path to the new sample file\n",
    "print(f\"Sample file saved at: {sample_file_path}\")"
   ]
  },
  {
   "cell_type": "code",
   "execution_count": null,
   "id": "eb5e195f-1349-4e8e-b7c9-8666da333d59",
   "metadata": {},
   "outputs": [],
   "source": []
  }
 ],
 "metadata": {
  "kernelspec": {
   "display_name": "Python 3 (ipykernel)",
   "language": "python",
   "name": "python3"
  },
  "language_info": {
   "codemirror_mode": {
    "name": "ipython",
    "version": 3
   },
   "file_extension": ".py",
   "mimetype": "text/x-python",
   "name": "python",
   "nbconvert_exporter": "python",
   "pygments_lexer": "ipython3",
   "version": "3.13.0"
  }
 },
 "nbformat": 4,
 "nbformat_minor": 5
}
