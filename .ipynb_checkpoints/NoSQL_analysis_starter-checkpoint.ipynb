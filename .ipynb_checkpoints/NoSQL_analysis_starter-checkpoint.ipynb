{
 "cells": [
  {
   "cell_type": "markdown",
   "id": "9a57c4c6",
   "metadata": {},
   "source": [
    "# Eat Safe, Love"
   ]
  },
  {
   "cell_type": "markdown",
   "id": "064ef857",
   "metadata": {},
   "source": [
    "## Notebook Set Up"
   ]
  },
  {
   "cell_type": "code",
   "execution_count": 31,
   "id": "3ecdd008",
   "metadata": {},
   "outputs": [],
   "source": [
    "# Import dependencies\n",
    "from pymongo import MongoClient\n",
    "from pprint import pprint"
   ]
  },
  {
   "cell_type": "code",
   "execution_count": 32,
   "id": "59390c4a",
   "metadata": {},
   "outputs": [],
   "source": [
    "# Create an instance of MongoClient\n",
    "mongo = MongoClient(port=27017)"
   ]
  },
  {
   "cell_type": "code",
   "execution_count": 33,
   "id": "71e373c1",
   "metadata": {},
   "outputs": [],
   "source": [
    "# assign the uk_food database to a variable name\n",
    "db = mongo['uk_food']"
   ]
  },
  {
   "cell_type": "code",
   "execution_count": 34,
   "id": "18ab463c",
   "metadata": {},
   "outputs": [
    {
     "name": "stdout",
     "output_type": "stream",
     "text": [
      "Collections in the 'uk_food' database: ['establishments']\n"
     ]
    }
   ],
   "source": [
    "# review the collections in our database\n",
    "db = mongo['uk_food']  # Access the database named 'uk_food'\n",
    "collections = db.list_collection_names()  # List all collections within the 'uk_food' database\n",
    "print(\"Collections in the 'uk_food' database:\", collections)  # Print the list of collections"
   ]
  },
  {
   "cell_type": "code",
   "execution_count": 35,
   "id": "11c9f11b",
   "metadata": {},
   "outputs": [],
   "source": [
    "# assign the collection to a variable\n",
    "establishments = db['establishments']"
   ]
  },
  {
   "cell_type": "markdown",
   "id": "d5671434",
   "metadata": {},
   "source": [
    "## Part 3: Exploratory Analysis\n",
    "Unless otherwise stated, for each question: \n",
    "* Use `count_documents` to display the number of documents contained in the result.\n",
    "* Display the first document in the results using `pprint`.\n",
    "* Convert the result to a Pandas DataFrame, print the number of rows in the DataFrame, and display the first 10 rows."
   ]
  },
  {
   "cell_type": "markdown",
   "id": "314bd884",
   "metadata": {},
   "source": [
    "### 1. Which establishments have a hygiene score equal to 20?"
   ]
  },
  {
   "cell_type": "code",
   "execution_count": 36,
   "id": "c2da7648",
   "metadata": {},
   "outputs": [
    {
     "name": "stdout",
     "output_type": "stream",
     "text": [
      "Number of documents with a hygiene score of 20: 41\n",
      "First document with a hygiene score of 20:\n",
      "{'AddressLine1': '5-6 Southfields Road',\n",
      " 'AddressLine2': 'Eastbourne',\n",
      " 'AddressLine3': 'East Sussex',\n",
      " 'AddressLine4': '',\n",
      " 'BusinessName': 'The Chase Rest Home',\n",
      " 'BusinessType': 'Caring Premises',\n",
      " 'BusinessTypeID': 5,\n",
      " 'ChangesByServerID': 0,\n",
      " 'Distance': 4613.888288172291,\n",
      " 'FHRSID': 110681,\n",
      " 'LocalAuthorityBusinessID': '4029',\n",
      " 'LocalAuthorityCode': '102',\n",
      " 'LocalAuthorityEmailAddress': 'Customerfirst@eastbourne.gov.uk',\n",
      " 'LocalAuthorityName': 'Eastbourne',\n",
      " 'LocalAuthorityWebSite': 'http://www.eastbourne.gov.uk/foodratings',\n",
      " 'NewRatingPending': False,\n",
      " 'Phone': '',\n",
      " 'PostCode': 'BN21 1BU',\n",
      " 'RatingDate': '2021-09-23T00:00:00',\n",
      " 'RatingKey': 'fhrs_0_en-gb',\n",
      " 'RatingValue': '0',\n",
      " 'RightToReply': '',\n",
      " 'SchemeType': 'FHRS',\n",
      " '_id': ObjectId('678c1b49baf5bed21312ce4b'),\n",
      " 'geocode': {'latitude': '50.769705', 'longitude': '0.27694'},\n",
      " 'links': [{'href': 'https://api.ratings.food.gov.uk/establishments/110681',\n",
      "            'rel': 'self'}],\n",
      " 'meta': {'dataSource': None,\n",
      "          'extractDate': '0001-01-01T00:00:00',\n",
      "          'itemCount': 0,\n",
      "          'pageNumber': 0,\n",
      "          'pageSize': 0,\n",
      "          'returncode': None,\n",
      "          'totalCount': 0,\n",
      "          'totalPages': 0},\n",
      " 'scores': {'ConfidenceInManagement': 20, 'Hygiene': 20, 'Structural': 20}}\n"
     ]
    }
   ],
   "source": [
    "# Find the establishments with a hygiene score of 20\n",
    "query = {\"scores.Hygiene\": 20}\n",
    "\n",
    "# Use count_documents to display the number of documents in the result\n",
    "count = establishments.count_documents(query)\n",
    "print(\"Number of documents with a hygiene score of 20:\", count)\n",
    "\n",
    "# Display the first document in the results using pprint\n",
    "first_document = establishments.find_one(query)\n",
    "print(\"First document with a hygiene score of 20:\")\n",
    "pprint(first_document)"
   ]
  },
  {
   "cell_type": "code",
   "execution_count": 37,
   "id": "a6e5cece",
   "metadata": {},
   "outputs": [
    {
     "name": "stdout",
     "output_type": "stream",
     "text": [
      "Number of rows in the DataFrame: 41\n",
      "First 10 rows of the DataFrame:\n",
      "                        _id   FHRSID  ChangesByServerID  \\\n",
      "0  678c1b49baf5bed21312ce4b   110681                  0   \n",
      "1  678c1b49baf5bed21312d1cc   612039                  0   \n",
      "2  678c1b4abaf5bed21312d4d6   730933                  0   \n",
      "3  678c1b4abaf5bed21312d6c4   172735                  0   \n",
      "4  678c1b4abaf5bed21312d6d3   172953                  0   \n",
      "5  678c1b4abaf5bed21312e072   512854                  0   \n",
      "6  678c1b4abaf5bed21312e293  1537089                  0   \n",
      "7  678c1b4bbaf5bed21312f7be   155648                  0   \n",
      "8  678c1b4cbaf5bed21312fc02  1012883                  0   \n",
      "9  678c1b4cbaf5bed213130414   644109                  0   \n",
      "\n",
      "  LocalAuthorityBusinessID               BusinessName  \\\n",
      "0                     4029        The Chase Rest Home   \n",
      "1                1970/FOOD                 Brenalwood   \n",
      "2                1698/FOOD              Melrose Hotel   \n",
      "3             PI/000023858              Seaford Pizza   \n",
      "4             PI/000024532              Golden Palace   \n",
      "5            12/00816/BUTH           Ashby's Butchers   \n",
      "6          22/00224/RESTUN  South Sea Express Cuisine   \n",
      "7              EH/00006058              Golden Palace   \n",
      "8         17/00110/MIXED/S             The Tulip Tree   \n",
      "9                    41811                      F & S   \n",
      "\n",
      "                        BusinessType  BusinessTypeID           AddressLine1  \\\n",
      "0                    Caring Premises               5   5-6 Southfields Road   \n",
      "1                    Caring Premises               5              Hall Lane   \n",
      "2  Hotel/bed & breakfast/guest house            7842  53 Marine Parade East   \n",
      "3             Takeaway/sandwich shop            7844          4 High Street   \n",
      "4            Restaurant/Cafe/Canteen               1         5 South Street   \n",
      "5                  Retailers - other            4613   777 Southchurch Road   \n",
      "6            Restaurant/Cafe/Canteen               1    33 Alexandra Street   \n",
      "7             Takeaway/sandwich shop            7844          7 London Road   \n",
      "8            Restaurant/Cafe/Canteen               1          3 The Village   \n",
      "9                  Retailers - other            4613                          \n",
      "\n",
      "         AddressLine2 AddressLine3  ...  \\\n",
      "0          Eastbourne  East Sussex  ...   \n",
      "1  Walton-on-the-Naze        Essex  ...   \n",
      "2      Clacton On Sea        Essex  ...   \n",
      "3             Seaford  East Sussex  ...   \n",
      "4             Seaford  East Sussex  ...   \n",
      "5     Southend-On-Sea        Essex  ...   \n",
      "6     Southend-on-sea        Essex  ...   \n",
      "7            Rayleigh        Essex  ...   \n",
      "8       Chiddingstone         KENT  ...   \n",
      "9      81 Southernhay     Basildon  ...   \n",
      "\n",
      "                      LocalAuthorityWebSite  \\\n",
      "0  http://www.eastbourne.gov.uk/foodratings   \n",
      "1             http://www.tendringdc.gov.uk/   \n",
      "2             http://www.tendringdc.gov.uk/   \n",
      "3       http://www.lewes-eastbourne.gov.uk/   \n",
      "4       http://www.lewes-eastbourne.gov.uk/   \n",
      "5                http://www.southend.gov.uk   \n",
      "6                http://www.southend.gov.uk   \n",
      "7                http://www.rochford.gov.uk   \n",
      "8              http://www.sevenoaks.gov.uk/   \n",
      "9                http://www.basildon.gov.uk   \n",
      "\n",
      "              LocalAuthorityEmailAddress  \\\n",
      "0        Customerfirst@eastbourne.gov.uk   \n",
      "1             fhsadmin@tendringdc.gov.uk   \n",
      "2             fhsadmin@tendringdc.gov.uk   \n",
      "3    ehealth.ldc@lewes-eastbourne.gov.uk   \n",
      "4    ehealth.ldc@lewes-eastbourne.gov.uk   \n",
      "5    EnvironmentalHealth@southend.gov.uk   \n",
      "6    EnvironmentalHealth@southend.gov.uk   \n",
      "7       customerservices@rochford.gov.uk   \n",
      "8  environmental.health@sevenoaks.gov.uk   \n",
      "9                    ehs@basildon.gov.uk   \n",
      "\n",
      "                                              scores SchemeType  \\\n",
      "0  {'Hygiene': 20, 'Structural': 20, 'ConfidenceI...       FHRS   \n",
      "1  {'Hygiene': 20, 'Structural': 15, 'ConfidenceI...       FHRS   \n",
      "2  {'Hygiene': 20, 'Structural': 20, 'ConfidenceI...       FHRS   \n",
      "3  {'Hygiene': 20, 'Structural': 10, 'ConfidenceI...       FHRS   \n",
      "4  {'Hygiene': 20, 'Structural': 10, 'ConfidenceI...       FHRS   \n",
      "5  {'Hygiene': 20, 'Structural': 20, 'ConfidenceI...       FHRS   \n",
      "6  {'Hygiene': 20, 'Structural': 20, 'ConfidenceI...       FHRS   \n",
      "7  {'Hygiene': 20, 'Structural': 15, 'ConfidenceI...       FHRS   \n",
      "8  {'Hygiene': 20, 'Structural': 5, 'ConfidenceIn...       FHRS   \n",
      "9  {'Hygiene': 20, 'Structural': 20, 'ConfidenceI...       FHRS   \n",
      "\n",
      "                                             geocode RightToReply  \\\n",
      "0  {'longitude': '0.27694', 'latitude': '50.769705'}                \n",
      "1  {'longitude': '1.278721', 'latitude': '51.8575...                \n",
      "2  {'longitude': '1.15927', 'latitude': '51.789429'}                \n",
      "3  {'longitude': '0.10202', 'latitude': '50.770885'}                \n",
      "4  {'longitude': '0.101446', 'latitude': '50.7707...                \n",
      "5  {'longitude': '0.736349', 'latitude': '51.5414...                \n",
      "6  {'longitude': '0.7121671', 'latitude': '51.535...                \n",
      "7  {'longitude': '0.602364', 'latitude': '51.5915...                \n",
      "8  {'longitude': '0.146449998021126', 'latitude':...                \n",
      "9  {'longitude': '0.462307', 'latitude': '51.57005'}                \n",
      "\n",
      "      Distance NewRatingPending  \\\n",
      "0  4613.888288            False   \n",
      "1  4617.965824            False   \n",
      "2  4619.656144            False   \n",
      "3  4620.421725            False   \n",
      "4  4620.437179            False   \n",
      "5  4625.565258            False   \n",
      "6  4626.200132            False   \n",
      "7  4632.276890            False   \n",
      "8  4633.934041            False   \n",
      "9  4636.552523            False   \n",
      "\n",
      "                                                meta  \\\n",
      "0  {'dataSource': None, 'extractDate': '0001-01-0...   \n",
      "1  {'dataSource': None, 'extractDate': '0001-01-0...   \n",
      "2  {'dataSource': None, 'extractDate': '0001-01-0...   \n",
      "3  {'dataSource': None, 'extractDate': '0001-01-0...   \n",
      "4  {'dataSource': None, 'extractDate': '0001-01-0...   \n",
      "5  {'dataSource': None, 'extractDate': '0001-01-0...   \n",
      "6  {'dataSource': None, 'extractDate': '0001-01-0...   \n",
      "7  {'dataSource': None, 'extractDate': '0001-01-0...   \n",
      "8  {'dataSource': None, 'extractDate': '0001-01-0...   \n",
      "9  {'dataSource': None, 'extractDate': '0001-01-0...   \n",
      "\n",
      "                                               links  \n",
      "0  [{'rel': 'self', 'href': 'https://api.ratings....  \n",
      "1  [{'rel': 'self', 'href': 'https://api.ratings....  \n",
      "2  [{'rel': 'self', 'href': 'https://api.ratings....  \n",
      "3  [{'rel': 'self', 'href': 'https://api.ratings....  \n",
      "4  [{'rel': 'self', 'href': 'https://api.ratings....  \n",
      "5  [{'rel': 'self', 'href': 'https://api.ratings....  \n",
      "6  [{'rel': 'self', 'href': 'https://api.ratings....  \n",
      "7  [{'rel': 'self', 'href': 'http://api.ratings.f...  \n",
      "8  [{'rel': 'self', 'href': 'http://api.ratings.f...  \n",
      "9  [{'rel': 'self', 'href': 'http://api.ratings.f...  \n",
      "\n",
      "[10 rows x 28 columns]\n"
     ]
    }
   ],
   "source": [
    "# Convert the result to a Pandas DataFrame\n",
    "import pandas as pd\n",
    "documents = list(establishments.find(query))\n",
    "df = pd.DataFrame(documents)\n",
    "\n",
    "# Display the number of rows in the DataFrame\n",
    "print(\"Number of rows in the DataFrame:\", len(df))\n",
    "\n",
    "# Display the first 10 rows of the DataFrame\n",
    "print(\"First 10 rows of the DataFrame:\")\n",
    "print(df.head(10))"
   ]
  },
  {
   "cell_type": "markdown",
   "id": "0ef4395a",
   "metadata": {},
   "source": [
    "### 2. Which establishments in London have a `RatingValue` greater than or equal to 4?"
   ]
  },
  {
   "cell_type": "code",
   "execution_count": 38,
   "id": "93c63829",
   "metadata": {},
   "outputs": [
    {
     "name": "stdout",
     "output_type": "stream",
     "text": [
      "Number of establishments in London with a RatingValue >= 4: 0\n",
      "First establishment in London with a RatingValue >= 4:\n",
      "None\n",
      "Number of rows in DataFrame: 0\n"
     ]
    },
    {
     "data": {
      "text/html": [
       "<div>\n",
       "<style scoped>\n",
       "    .dataframe tbody tr th:only-of-type {\n",
       "        vertical-align: middle;\n",
       "    }\n",
       "\n",
       "    .dataframe tbody tr th {\n",
       "        vertical-align: top;\n",
       "    }\n",
       "\n",
       "    .dataframe thead th {\n",
       "        text-align: right;\n",
       "    }\n",
       "</style>\n",
       "<table border=\"1\" class=\"dataframe\">\n",
       "  <thead>\n",
       "    <tr style=\"text-align: right;\">\n",
       "      <th></th>\n",
       "    </tr>\n",
       "  </thead>\n",
       "  <tbody>\n",
       "  </tbody>\n",
       "</table>\n",
       "</div>"
      ],
      "text/plain": [
       "Empty DataFrame\n",
       "Columns: []\n",
       "Index: []"
      ]
     },
     "execution_count": 38,
     "metadata": {},
     "output_type": "execute_result"
    }
   ],
   "source": [
    "# Find the establishments with London as the Local Authority and has a RatingValue greater than or equal to 4.\n",
    "# Query to find establishments in London with RatingValue >= 4\n",
    "query = {\n",
    "    \"LocalAuthorityName\": {\"$regex\": \"London\", \"$options\": \"i\"},  # Match \"London\" in LocalAuthorityName\n",
    "    \"RatingValue\": {\"$gte\": 4}  # RatingValue greater than or equal to 4\n",
    "}\n",
    "\n",
    "# Use count_documents to display the number of documents in the result\n",
    "count = establishments.count_documents(query)\n",
    "print(f\"Number of establishments in London with a RatingValue >= 4: {count}\")\n",
    "\n",
    "# Display the first document in the results using pprint\n",
    "first_document = establishments.find_one(query)\n",
    "print(\"First establishment in London with a RatingValue >= 4:\")\n",
    "pprint(first_document)\n",
    "\n",
    "# Convert the result to a Pandas DataFrame\n",
    "results = list(establishments.find(query))\n",
    "results_df = pd.DataFrame(results)\n",
    "\n",
    "# Display the number of rows in the DataFrame\n",
    "print(f\"Number of rows in DataFrame: {len(results_df)}\")\n",
    "\n",
    "# Display the first 10 rows of the DataFrame\n",
    "results_df.head(10)"
   ]
  },
  {
   "cell_type": "code",
   "execution_count": 39,
   "id": "07e24ccb",
   "metadata": {},
   "outputs": [
    {
     "name": "stdout",
     "output_type": "stream",
     "text": [
      "Number of rows in the DataFrame: 0\n",
      "First 10 rows of the DataFrame:\n",
      "Empty DataFrame\n",
      "Columns: []\n",
      "Index: []\n"
     ]
    }
   ],
   "source": [
    "# Convert the result to a Pandas DataFrame\n",
    "documents = list(establishments.find(query))\n",
    "df = pd.DataFrame(documents)\n",
    "\n",
    "# Display the number of rows in the DataFrame\n",
    "print(\"Number of rows in the DataFrame:\", len(df))\n",
    "\n",
    "# Display the first 10 rows of the DataFrame\n",
    "print(\"First 10 rows of the DataFrame:\")\n",
    "print(df.head(10))"
   ]
  },
  {
   "attachments": {},
   "cell_type": "markdown",
   "id": "4e570caf",
   "metadata": {},
   "source": [
    "### 3. What are the top 5 establishments with a `RatingValue` rating value of 5, sorted by lowest hygiene score, nearest to the new restaurant added, \"Penang Flavours\"?"
   ]
  },
  {
   "cell_type": "code",
   "execution_count": 40,
   "id": "7f599f3d",
   "metadata": {},
   "outputs": [
    {
     "name": "stdout",
     "output_type": "stream",
     "text": [
      "No establishments found with the specified criteria.\n"
     ]
    }
   ],
   "source": [
    "# Search within 0.01 degree on either side of the latitude and longitude.\n",
    "# Rating value must equal 5\n",
    "# Sort by hygiene score\n",
    "\n",
    "# Coordinates of \"Penang Flavours\"\n",
    "penang_latitude = 51.490142\n",
    "penang_longitude = 0.083840\n",
    "\n",
    "# Define the search range (0.01 degrees on either side)\n",
    "latitude_range = {\"$gte\": penang_latitude - 0.01, \"$lte\": penang_latitude + 0.01}\n",
    "longitude_range = {\"$gte\": penang_longitude - 0.01, \"$lte\": penang_longitude + 0.01}\n",
    "\n",
    "# Query to filter establishments\n",
    "query = {\n",
    "    \"RatingValue\": \"5\",  # Ensure RatingValue is exactly 5\n",
    "    \"geocode.latitude\": latitude_range,\n",
    "    \"geocode.longitude\": longitude_range,\n",
    "}\n",
    "\n",
    "# Sort criteria: by Hygiene score in ascending order\n",
    "sort_criteria = [(\"scores.Hygiene\", 1)]  # Sort by Hygiene score (lowest first)\n",
    "\n",
    "# Fetch the top 5 results\n",
    "results = list(establishments.find(query).sort(sort_criteria).limit(5))\n",
    "\n",
    "# Display the results with more detailed information\n",
    "if results:\n",
    "    print(f\"Top 5 establishments with RatingValue of 5 near 'Penang Flavours':\\n\")\n",
    "    for i, establishment in enumerate(results, start=1):\n",
    "        print(f\"Establishment #{i}:\")\n",
    "        print(f\"  Name: {establishment.get('BusinessName')}\")\n",
    "        print(f\"  Address: {establishment.get('AddressLine1', '')}, {establishment.get('AddressLine2', '')}, {establishment.get('PostCode', '')}\")\n",
    "        print(f\"  Hygiene Score: {establishment.get('scores', {}).get('Hygiene', 'N/A')}\")\n",
    "        print(f\"  Latitude: {establishment.get('geocode', {}).get('latitude', 'N/A')}\")\n",
    "        print(f\"  Longitude: {establishment.get('geocode', {}).get('longitude', 'N/A')}\")\n",
    "        print(\"\\n\")\n",
    "else:\n",
    "    print(\"No establishments found with the specified criteria.\")\n",
    "\n"
   ]
  },
  {
   "cell_type": "code",
   "execution_count": 41,
   "id": "a6ad16f7",
   "metadata": {},
   "outputs": [],
   "source": [
    "# Convert result to Pandas DataFrame\n",
    "df = pd.DataFrame(list(results))"
   ]
  },
  {
   "cell_type": "markdown",
   "id": "67281254",
   "metadata": {},
   "source": [
    "### 4. How many establishments in each Local Authority area have a hygiene score of 0?"
   ]
  },
  {
   "cell_type": "code",
   "execution_count": 42,
   "id": "4eeb227e",
   "metadata": {},
   "outputs": [
    {
     "name": "stdout",
     "output_type": "stream",
     "text": [
      "Number of Local Authority areas with establishments having a hygiene score of 0: 56\n",
      "First 10 results:\n",
      "{'_id': 'Thanet', 'count': 1130}\n",
      "{'_id': 'Greenwich', 'count': 882}\n",
      "{'_id': 'Maidstone', 'count': 713}\n",
      "{'_id': 'Newham', 'count': 711}\n",
      "{'_id': 'Swale', 'count': 686}\n",
      "{'_id': 'Chelmsford', 'count': 680}\n",
      "{'_id': 'Medway', 'count': 672}\n",
      "{'_id': 'Bexley', 'count': 607}\n",
      "{'_id': 'Southend-On-Sea', 'count': 586}\n",
      "{'_id': 'Tendring', 'count': 542}\n"
     ]
    }
   ],
   "source": [
    "# Create a pipeline that: \n",
    "# 1. Matches establishments with a hygiene score of 0\n",
    "# 2. Groups the matches by Local Authority\n",
    "# 3. Sorts the matches from highest to lowest\n",
    "\n",
    "pipeline = [\n",
    "    {\n",
    "        \"$match\": {  # Step 1: Match establishments with a hygiene score of 0\n",
    "            \"scores.Hygiene\": 0\n",
    "        }\n",
    "    },\n",
    "    {\n",
    "        \"$group\": {  # Step 2: Group by LocalAuthorityName and count the establishments\n",
    "            \"_id\": \"$LocalAuthorityName\",  # Group by LocalAuthorityName\n",
    "            \"count\": {\"$sum\": 1}  # Count the number of establishments in each group\n",
    "        }\n",
    "    },\n",
    "    {\n",
    "        \"$sort\": {  # Step 3: Sort by the count in descending order\n",
    "            \"count\": -1\n",
    "        }\n",
    "    }\n",
    "]\n",
    "\n",
    "# Run the aggregation pipeline and store the results\n",
    "results = list(establishments.aggregate(pipeline))\n",
    "\n",
    "# Print the number of documents in the result\n",
    "print(f\"Number of Local Authority areas with establishments having a hygiene score of 0: {len(results)}\")\n",
    "\n",
    "# Print the first 10 results\n",
    "print(\"First 10 results:\")\n",
    "for result in results[:10]:\n",
    "    print(result)"
   ]
  },
  {
   "cell_type": "code",
   "execution_count": 43,
   "id": "d8aab364",
   "metadata": {},
   "outputs": [
    {
     "name": "stdout",
     "output_type": "stream",
     "text": [
      "Number of rows in the DataFrame: 56\n",
      "First 10 rows of the DataFrame:\n"
     ]
    },
    {
     "data": {
      "text/html": [
       "<div>\n",
       "<style scoped>\n",
       "    .dataframe tbody tr th:only-of-type {\n",
       "        vertical-align: middle;\n",
       "    }\n",
       "\n",
       "    .dataframe tbody tr th {\n",
       "        vertical-align: top;\n",
       "    }\n",
       "\n",
       "    .dataframe thead th {\n",
       "        text-align: right;\n",
       "    }\n",
       "</style>\n",
       "<table border=\"1\" class=\"dataframe\">\n",
       "  <thead>\n",
       "    <tr style=\"text-align: right;\">\n",
       "      <th></th>\n",
       "      <th>LocalAuthorityName</th>\n",
       "      <th>EstablishmentCount</th>\n",
       "    </tr>\n",
       "  </thead>\n",
       "  <tbody>\n",
       "    <tr>\n",
       "      <th>0</th>\n",
       "      <td>Thanet</td>\n",
       "      <td>1130</td>\n",
       "    </tr>\n",
       "    <tr>\n",
       "      <th>1</th>\n",
       "      <td>Greenwich</td>\n",
       "      <td>882</td>\n",
       "    </tr>\n",
       "    <tr>\n",
       "      <th>2</th>\n",
       "      <td>Maidstone</td>\n",
       "      <td>713</td>\n",
       "    </tr>\n",
       "    <tr>\n",
       "      <th>3</th>\n",
       "      <td>Newham</td>\n",
       "      <td>711</td>\n",
       "    </tr>\n",
       "    <tr>\n",
       "      <th>4</th>\n",
       "      <td>Swale</td>\n",
       "      <td>686</td>\n",
       "    </tr>\n",
       "    <tr>\n",
       "      <th>5</th>\n",
       "      <td>Chelmsford</td>\n",
       "      <td>680</td>\n",
       "    </tr>\n",
       "    <tr>\n",
       "      <th>6</th>\n",
       "      <td>Medway</td>\n",
       "      <td>672</td>\n",
       "    </tr>\n",
       "    <tr>\n",
       "      <th>7</th>\n",
       "      <td>Bexley</td>\n",
       "      <td>607</td>\n",
       "    </tr>\n",
       "    <tr>\n",
       "      <th>8</th>\n",
       "      <td>Southend-On-Sea</td>\n",
       "      <td>586</td>\n",
       "    </tr>\n",
       "    <tr>\n",
       "      <th>9</th>\n",
       "      <td>Tendring</td>\n",
       "      <td>542</td>\n",
       "    </tr>\n",
       "  </tbody>\n",
       "</table>\n",
       "</div>"
      ],
      "text/plain": [
       "  LocalAuthorityName  EstablishmentCount\n",
       "0             Thanet                1130\n",
       "1          Greenwich                 882\n",
       "2          Maidstone                 713\n",
       "3             Newham                 711\n",
       "4              Swale                 686\n",
       "5         Chelmsford                 680\n",
       "6             Medway                 672\n",
       "7             Bexley                 607\n",
       "8    Southend-On-Sea                 586\n",
       "9           Tendring                 542"
      ]
     },
     "execution_count": 43,
     "metadata": {},
     "output_type": "execute_result"
    }
   ],
   "source": [
    "# Convert the result to a Pandas DataFrame\n",
    "import pandas as pd\n",
    "results_df = pd.DataFrame(results)\n",
    "\n",
    "# Rename columns for better readability\n",
    "results_df.rename(columns={\"_id\": \"LocalAuthorityName\", \"count\": \"EstablishmentCount\"}, inplace=True)\n",
    "\n",
    "# Display the number of rows in the DataFrame\n",
    "print(f\"Number of rows in the DataFrame: {len(results_df)}\")\n",
    "\n",
    "# Display the first 10 rows of the DataFrame\n",
    "print(\"First 10 rows of the DataFrame:\")\n",
    "results_df.head(10)"
   ]
  },
  {
   "cell_type": "code",
   "execution_count": null,
   "id": "3f3cfbc2-d44c-4eb9-885c-4d521df1c4ac",
   "metadata": {},
   "outputs": [],
   "source": []
  }
 ],
 "metadata": {
  "kernelspec": {
   "display_name": "Python 3 (ipykernel)",
   "language": "python",
   "name": "python3"
  },
  "language_info": {
   "codemirror_mode": {
    "name": "ipython",
    "version": 3
   },
   "file_extension": ".py",
   "mimetype": "text/x-python",
   "name": "python",
   "nbconvert_exporter": "python",
   "pygments_lexer": "ipython3",
   "version": "3.13.0"
  }
 },
 "nbformat": 4,
 "nbformat_minor": 5
}
